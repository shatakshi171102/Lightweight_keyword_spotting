{
  "cells": [
    {
      "cell_type": "markdown",
      "metadata": {
        "id": "Dae4LmQp8-li"
      },
      "source": [
        "#Important all necessary libraries"
      ]
    },
    {
      "cell_type": "code",
      "execution_count": null,
      "metadata": {
        "id": "buETDYOj_hh7"
      },
      "outputs": [],
      "source": [
        "import torch\n",
        "import torch.nn as nn\n",
        "import torch.nn.functional as F\n",
        "import torch.optim as optim\n",
        "import torchaudio\n",
        "import sys\n",
        "\n",
        "import matplotlib.pyplot as plt\n",
        "import IPython.display as ipd\n",
        "\n",
        "from tqdm import tqdm\n",
        "from torchaudio.datasets import SPEECHCOMMANDS\n",
        "import os"
      ]
    },
    {
      "cell_type": "markdown",
      "metadata": {
        "id": "CVo3mbw-9Ey3"
      },
      "source": [
        "#Checking availability of GPU/CPU"
      ]
    },
    {
      "cell_type": "code",
      "execution_count": null,
      "metadata": {
        "id": "n17rAElR8vgn"
      },
      "outputs": [],
      "source": [
        "#Checking if the GPU is available or not, if runtime is set to GPU, our code is\n",
        "#running on GPU else on CPU"
      ]
    },
    {
      "cell_type": "code",
      "execution_count": null,
      "metadata": {
        "colab": {
          "base_uri": "https://localhost:8080/"
        },
        "id": "pJSXYJsL_qGg",
        "outputId": "a3476244-52fa-48d4-c6cf-454c5ee96008"
      },
      "outputs": [
        {
          "name": "stdout",
          "output_type": "stream",
          "text": [
            "cpu\n"
          ]
        }
      ],
      "source": [
        "device = torch.device(\"cuda\" if torch.cuda.is_available() else \"cpu\")\n",
        "print(device)"
      ]
    },
    {
      "cell_type": "markdown",
      "metadata": {
        "id": "erkAEgb09bXh"
      },
      "source": [
        "#Downloading Dataset"
      ]
    },
    {
      "cell_type": "code",
      "execution_count": null,
      "metadata": {
        "id": "6lvxLXYx_s9J"
      },
      "outputs": [],
      "source": [
        "class Download_and_split_SC(SPEECHCOMMANDS):\n",
        "    def __init__(self, subset: str = None):\n",
        "        super().__init__(\"./\", download=True)\n",
        "\n",
        "        def load_list(filename):\n",
        "            filepath = os.path.join(self._path, filename)\n",
        "            with open(filepath) as fileobj:\n",
        "                return [os.path.normpath(os.path.join(self._path, line.strip())) for line in fileobj]\n",
        "\n",
        "        if subset == \"test\":\n",
        "            self._walker = load_list(\"testing_list.txt\")\n",
        "        elif subset == \"train\":\n",
        "            excludes = load_list(\"validation_list.txt\") + load_list(\"testing_list.txt\")\n",
        "            excludes = set(excludes)\n",
        "            self._walker = [w for w in self._walker if w not in excludes]"
      ]
    },
    {
      "cell_type": "markdown",
      "metadata": {
        "id": "Egt6ZBpj9kj9"
      },
      "source": [
        "##Splitting the dataset into train and test sets"
      ]
    },
    {
      "cell_type": "code",
      "execution_count": null,
      "metadata": {
        "id": "S9Ccysgu9jrf"
      },
      "outputs": [],
      "source": [
        "train_dataset = Download_and_split_SC(\"train\")\n",
        "test_dataset = Download_and_split_SC(\"test\")"
      ]
    },
    {
      "cell_type": "code",
      "execution_count": null,
      "metadata": {
        "colab": {
          "base_uri": "https://localhost:8080/"
        },
        "id": "1lQB3Z54AUky",
        "outputId": "8bf72065-5457-4a0f-9c7f-d4244d210353"
      },
      "outputs": [
        {
          "data": {
            "text/plain": [
              "84843"
            ]
          },
          "execution_count": 54,
          "metadata": {},
          "output_type": "execute_result"
        }
      ],
      "source": [
        "len(train_dataset)"
      ]
    },
    {
      "cell_type": "code",
      "execution_count": null,
      "metadata": {
        "colab": {
          "base_uri": "https://localhost:8080/"
        },
        "id": "GntXtzwiAXtx",
        "outputId": "583bb8ef-f199-4200-c53f-5a9f32148243"
      },
      "outputs": [
        {
          "data": {
            "text/plain": [
              "11005"
            ]
          },
          "execution_count": 55,
          "metadata": {},
          "output_type": "execute_result"
        }
      ],
      "source": [
        "len(test_dataset)"
      ]
    },
    {
      "cell_type": "markdown",
      "metadata": {
        "id": "RntfB9SBBvdh"
      },
      "source": [
        "#Visualization of the dataset"
      ]
    },
    {
      "cell_type": "markdown",
      "metadata": {
        "id": "j7Nc6prGAEse"
      },
      "source": [
        "##Observing the properties of the dataset"
      ]
    },
    {
      "cell_type": "code",
      "execution_count": null,
      "metadata": {
        "id": "qyra0Y30_VWN"
      },
      "outputs": [],
      "source": [
        "waveform, sample_rate, label, speaker_id, utterance_number = train_dataset[0]"
      ]
    },
    {
      "cell_type": "code",
      "execution_count": null,
      "metadata": {
        "colab": {
          "base_uri": "https://localhost:8080/"
        },
        "id": "udNYXB9j_hwZ",
        "outputId": "9ba9f3de-e650-4059-d53e-e51ee489cac7"
      },
      "outputs": [
        {
          "data": {
            "text/plain": [
              "tensor([[-0.0658, -0.0709, -0.0753,  ..., -0.0700, -0.0731, -0.0704]])"
            ]
          },
          "execution_count": 57,
          "metadata": {},
          "output_type": "execute_result"
        }
      ],
      "source": [
        "waveform"
      ]
    },
    {
      "cell_type": "code",
      "execution_count": null,
      "metadata": {
        "colab": {
          "base_uri": "https://localhost:8080/"
        },
        "id": "PVAJStaJ_lgH",
        "outputId": "2b7a95f3-7e7a-43c9-b79e-4ecc2db54da5"
      },
      "outputs": [
        {
          "data": {
            "text/plain": [
              "16000"
            ]
          },
          "execution_count": 58,
          "metadata": {},
          "output_type": "execute_result"
        }
      ],
      "source": [
        "sample_rate"
      ]
    },
    {
      "cell_type": "code",
      "execution_count": null,
      "metadata": {
        "colab": {
          "base_uri": "https://localhost:8080/",
          "height": 35
        },
        "id": "ZUXjuGiE_pSW",
        "outputId": "dedd90bc-cc06-447a-ea76-e5d94e0a6f90"
      },
      "outputs": [
        {
          "data": {
            "application/vnd.google.colaboratory.intrinsic+json": {
              "type": "string"
            },
            "text/plain": [
              "'backward'"
            ]
          },
          "execution_count": 59,
          "metadata": {},
          "output_type": "execute_result"
        }
      ],
      "source": [
        "label"
      ]
    },
    {
      "cell_type": "code",
      "execution_count": null,
      "metadata": {
        "colab": {
          "base_uri": "https://localhost:8080/",
          "height": 35
        },
        "id": "uPhIhnTp_4Nl",
        "outputId": "96fe1735-2f3a-4a79-8501-00fe0a833e4d"
      },
      "outputs": [
        {
          "data": {
            "application/vnd.google.colaboratory.intrinsic+json": {
              "type": "string"
            },
            "text/plain": [
              "'0165e0e8'"
            ]
          },
          "execution_count": 60,
          "metadata": {},
          "output_type": "execute_result"
        }
      ],
      "source": [
        "speaker_id"
      ]
    },
    {
      "cell_type": "code",
      "execution_count": null,
      "metadata": {
        "colab": {
          "base_uri": "https://localhost:8080/"
        },
        "id": "EWa6Yt8Y_tm4",
        "outputId": "f8f53b57-0a17-425e-fa23-531693110da6"
      },
      "outputs": [
        {
          "data": {
            "text/plain": [
              "0"
            ]
          },
          "execution_count": 61,
          "metadata": {},
          "output_type": "execute_result"
        }
      ],
      "source": [
        "utterance_number"
      ]
    },
    {
      "cell_type": "code",
      "execution_count": null,
      "metadata": {
        "colab": {
          "base_uri": "https://localhost:8080/",
          "height": 465
        },
        "id": "-NSHwysm_s5q",
        "outputId": "889958bf-3e68-49df-8e10-280d02ff5509"
      },
      "outputs": [
        {
          "name": "stdout",
          "output_type": "stream",
          "text": [
            "Shape of waveform: torch.Size([1, 16000])\n",
            "Sample rate of waveform: 16000\n"
          ]
        },
        {
          "data": {
            "image/png": "[encoded data removed]",
            "text/plain": [
              "<Figure size 640x480 with 1 Axes>"
            ]
          },
          "metadata": {},
          "output_type": "display_data"
        }
      ],
      "source": [
        "print(\"Shape of waveform: {}\".format(waveform.size()))\n",
        "print(\"Sample rate of waveform: {}\".format(sample_rate))\n",
        "\n",
        "plt.plot(waveform.t().numpy());"
      ]
    },
    {
      "cell_type": "code",
      "execution_count": null,
      "metadata": {
        "id": "XvOoAx6_8g-4"
      },
      "outputs": [],
      "source": [
        "waveform1, sample_rate1, label1, speaker_id1, utterance_number1 = train_dataset[1800]"
      ]
    },
    {
      "cell_type": "code",
      "execution_count": null,
      "metadata": {
        "colab": {
          "base_uri": "https://localhost:8080/"
        },
        "id": "NshDM157_ybd",
        "outputId": "4167580d-fc7d-40db-f50e-2806acf5ea35"
      },
      "outputs": [
        {
          "data": {
            "text/plain": [
              "tensor([[-0.0032, -0.0037, -0.0035,  ..., -0.0052, -0.0050, -0.0053]])"
            ]
          },
          "execution_count": 64,
          "metadata": {},
          "output_type": "execute_result"
        }
      ],
      "source": [
        "waveform1"
      ]
    },
    {
      "cell_type": "code",
      "execution_count": null,
      "metadata": {
        "colab": {
          "base_uri": "https://localhost:8080/"
        },
        "id": "_ohDHJyv_yX2",
        "outputId": "faa757d4-fa8d-46c6-8768-3973d8b7b0f0"
      },
      "outputs": [
        {
          "data": {
            "text/plain": [
              "16000"
            ]
          },
          "execution_count": 65,
          "metadata": {},
          "output_type": "execute_result"
        }
      ],
      "source": [
        "sample_rate1"
      ]
    },
    {
      "cell_type": "code",
      "execution_count": null,
      "metadata": {
        "colab": {
          "base_uri": "https://localhost:8080/",
          "height": 35
        },
        "id": "R6W2DjD5_yVL",
        "outputId": "93d3022b-5783-4605-d588-73d59239b60a"
      },
      "outputs": [
        {
          "data": {
            "application/vnd.google.colaboratory.intrinsic+json": {
              "type": "string"
            },
            "text/plain": [
              "'bed'"
            ]
          },
          "execution_count": 66,
          "metadata": {},
          "output_type": "execute_result"
        }
      ],
      "source": [
        "label1"
      ]
    },
    {
      "cell_type": "code",
      "execution_count": null,
      "metadata": {
        "colab": {
          "base_uri": "https://localhost:8080/",
          "height": 35
        },
        "id": "AydiZ7S__7Ds",
        "outputId": "4d620755-9b58-4f51-c712-d79f9da3e23a"
      },
      "outputs": [
        {
          "data": {
            "application/vnd.google.colaboratory.intrinsic+json": {
              "type": "string"
            },
            "text/plain": [
              "'4b25f620'"
            ]
          },
          "execution_count": 67,
          "metadata": {},
          "output_type": "execute_result"
        }
      ],
      "source": [
        "speaker_id1"
      ]
    },
    {
      "cell_type": "code",
      "execution_count": null,
      "metadata": {
        "colab": {
          "base_uri": "https://localhost:8080/"
        },
        "id": "_CjmvYq--3Yg",
        "outputId": "33693749-3816-4a5c-e40c-30bb6d5d67e0"
      },
      "outputs": [
        {
          "data": {
            "text/plain": [
              "1"
            ]
          },
          "execution_count": 68,
          "metadata": {},
          "output_type": "execute_result"
        }
      ],
      "source": [
        "utterance_number1"
      ]
    },
    {
      "cell_type": "code",
      "execution_count": null,
      "metadata": {
        "colab": {
          "base_uri": "https://localhost:8080/",
          "height": 465
        },
        "id": "9BtVKekUAjID",
        "outputId": "2522796b-8db6-441a-c8fa-d255bb6a50e9"
      },
      "outputs": [
        {
          "name": "stdout",
          "output_type": "stream",
          "text": [
            "Shape of waveform: torch.Size([1, 16000])\n",
            "Sample rate of waveform: 16000\n"
          ]
        },
        {
          "data": {
            "image/png": "[encoded data removed]",
            "text/plain": [
              "<Figure size 640x480 with 1 Axes>"
            ]
          },
          "metadata": {},
          "output_type": "display_data"
        }
      ],
      "source": [
        "print(\"Shape of waveform: {}\".format(waveform1.size()))\n",
        "print(\"Sample rate of waveform: {}\".format(sample_rate1))\n",
        "\n",
        "plt.plot(waveform1.t().numpy());"
      ]
    },
    {
      "cell_type": "markdown",
      "metadata": {
        "id": "AmwW0qc_A8Yk"
      },
      "source": [
        "##Visualizing the labels of the dataset"
      ]
    },
    {
      "cell_type": "code",
      "execution_count": null,
      "metadata": {
        "colab": {
          "base_uri": "https://localhost:8080/"
        },
        "id": "zrY5Aopr_s3I",
        "outputId": "b52f369f-6c63-40f1-e672-51de25afc8e6"
      },
      "outputs": [
        {
          "data": {
            "text/plain": [
              "['backward',\n",
              " 'bed',\n",
              " 'bird',\n",
              " 'cat',\n",
              " 'dog',\n",
              " 'down',\n",
              " 'eight',\n",
              " 'five',\n",
              " 'follow',\n",
              " 'forward',\n",
              " 'four',\n",
              " 'go',\n",
              " 'happy',\n",
              " 'house',\n",
              " 'learn',\n",
              " 'left',\n",
              " 'marvin',\n",
              " 'nine',\n",
              " 'no',\n",
              " 'off',\n",
              " 'on',\n",
              " 'one',\n",
              " 'right',\n",
              " 'seven',\n",
              " 'sheila',\n",
              " 'six',\n",
              " 'stop',\n",
              " 'three',\n",
              " 'tree',\n",
              " 'two',\n",
              " 'up',\n",
              " 'visual',\n",
              " 'wow',\n",
              " 'yes',\n",
              " 'zero']"
            ]
          },
          "execution_count": 70,
          "metadata": {},
          "output_type": "execute_result"
        }
      ],
      "source": [
        "labels = sorted(list(set(datapoint[2] for datapoint in train_dataset)))\n",
        "labels"
      ]
    },
    {
      "cell_type": "markdown",
      "metadata": {
        "id": "l_ECoYpECoM_"
      },
      "source": [
        "##Visulaizing Audio of the dataset"
      ]
    },
    {
      "cell_type": "code",
      "execution_count": null,
      "metadata": {
        "colab": {
          "base_uri": "https://localhost:8080/",
          "height": 75
        },
        "id": "USoasRre_s0s",
        "outputId": "ec8b87ed-2f5d-4fa1-a79c-c188e6c0fd3d"
      },
      "outputs": [
        {
          "data": {
            "text/html": [
              "\n",
              "                <audio  controls=\"controls\" >\n",
              "                    <source src=\"data:audio/wav;base64,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\" type=\"audio/wav\" />\n",
              "                    Your browser does not support the audio element.\n",
              "                </audio>\n",
              "              "
            ],
            "text/plain": [
              "<IPython.lib.display.Audio object>"
            ]
          },
          "execution_count": 71,
          "metadata": {},
          "output_type": "execute_result"
        }
      ],
      "source": [
        "waveform_first, *_ = train_dataset[0]\n",
        "ipd.Audio(waveform_first.numpy(), rate=sample_rate)\n"
      ]
    },
    {
      "cell_type": "code",
      "execution_count": null,
      "metadata": {
        "colab": {
          "base_uri": "https://localhost:8080/",
          "height": 75
        },
        "id": "2mhn4Ena3-Yg",
        "outputId": "eae46ced-728c-49d6-9990-93d03da92cb0"
      },
      "outputs": [
        {
          "data": {
            "text/html": [
              "\n",
              "                <audio  controls=\"controls\" >\n",
              "                    <source src=\"data:audio/wav;base64,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\" type=\"audio/wav\" />\n",
              "                    Your browser does not support the audio element.\n",
              "                </audio>\n",
              "              "
            ],
            "text/plain": [
              "<IPython.lib.display.Audio object>"
            ]
          },
          "execution_count": 72,
          "metadata": {},
          "output_type": "execute_result"
        }
      ],
      "source": [
        "waveform_ninth, *_ = train_dataset[8]\n",
        "ipd.Audio(waveform_ninth.numpy(), rate=sample_rate)"
      ]
    },
    {
      "cell_type": "code",
      "execution_count": null,
      "metadata": {
        "colab": {
          "base_uri": "https://localhost:8080/",
          "height": 75
        },
        "id": "2tcnkLzlCkPM",
        "outputId": "f0fed2ca-406f-44b5-b802-03d8473607c1"
      },
      "outputs": [
        {
          "data": {
            "text/html": [
              "\n",
              "                <audio  controls=\"controls\" >\n",
              "                    <source src=\"data:audio/wav;base64,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\" type=\"audio/wav\" />\n",
              "                    Your browser does not support the audio element.\n",
              "                </audio>\n",
              "              "
            ],
            "text/plain": [
              "<IPython.lib.display.Audio object>"
            ]
          },
          "execution_count": 73,
          "metadata": {},
          "output_type": "execute_result"
        }
      ],
      "source": [
        "waveform_5989, *_ = train_dataset[5988]\n",
        "ipd.Audio(waveform_5989.numpy(), rate=sample_rate)"
      ]
    },
    {
      "cell_type": "code",
      "execution_count": null,
      "metadata": {
        "colab": {
          "base_uri": "https://localhost:8080/",
          "height": 75
        },
        "id": "5nEqABqN_6Jz",
        "outputId": "76b299d5-5901-4934-d254-ff97240d7b37"
      },
      "outputs": [
        {
          "data": {
            "text/html": [
              "\n",
              "                <audio  controls=\"controls\" >\n",
              "                    <source src=\"data:audio/wav;base64,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\" type=\"audio/wav\" />\n",
              "                    Your browser does not support the audio element.\n",
              "                </audio>\n",
              "              "
            ],
            "text/plain": [
              "<IPython.lib.display.Audio object>"
            ]
          },
          "execution_count": 74,
          "metadata": {},
          "output_type": "execute_result"
        }
      ],
      "source": [
        "waveform_last, *_ = train_dataset[-1]\n",
        "ipd.Audio(waveform_last.numpy(), rate=sample_rate)"
      ]
    },
    {
      "cell_type": "markdown",
      "metadata": {
        "id": "D4TDvTrO5HRx"
      },
      "source": [
        "#Data Agumentation"
      ]
    },
    {
      "cell_type": "code",
      "execution_count": null,
      "metadata": {
        "id": "OVRX4e6eGErh"
      },
      "outputs": [],
      "source": [
        "#Data agumentation is important because it can prevent our model from overfitting"
      ]
    },
    {
      "cell_type": "code",
      "execution_count": null,
      "metadata": {
        "id": "KpC6vOLfEvF_"
      },
      "outputs": [],
      "source": [
        "#here we are doing the resampling of the audio as a part of data agumentation to\n",
        "#reduce the computational cost of processing the signal, as it can help to create\n",
        "#additional data points by changing the sampling rate of the audio signals.\n",
        "#This can increase the size of the dataset and improve the performance of the model"
      ]
    },
    {
      "cell_type": "code",
      "execution_count": null,
      "metadata": {
        "colab": {
          "base_uri": "https://localhost:8080/",
          "height": 75
        },
        "id": "O_9B_VvW_7-d",
        "outputId": "0677f831-6d2d-4242-fd6f-10a82f0a1ae0"
      },
      "outputs": [
        {
          "data": {
            "text/html": [
              "\n",
              "                <audio  controls=\"controls\" >\n",
              "                    <source src=\"data:audio/wav;base64,UklGRiYAAABXQVZFZm10IBAAAAABAAEAAQAAAAIAAAACABAAZGF0YQIAAAABgA==\" type=\"audio/wav\" />\n",
              "                    Your browser does not support the audio element.\n",
              "                </audio>\n",
              "              "
            ],
            "text/plain": [
              "<IPython.lib.display.Audio object>"
            ]
          },
          "execution_count": 77,
          "metadata": {},
          "output_type": "execute_result"
        }
      ],
      "source": [
        "new_sample_rate = 1\n",
        "transform = torchaudio.transforms.Resample(orig_freq=sample_rate, new_freq=new_sample_rate)\n",
        "# randomly add noise\n",
        "# transform = transforms.RandomApply([torch.nn.Sequential(\n",
        "#         torchaudio.transforms.AdditiveNoise(p=0.5),\n",
        "#     )], p=0.5),\n",
        "transformed = transform(waveform)\n",
        "\n",
        "ipd.Audio(transformed.numpy(), rate=new_sample_rate)"
      ]
    },
    {
      "cell_type": "markdown",
      "metadata": {
        "id": "LYJdLkhcEp80"
      },
      "source": [
        "#Defing Hyperparameters"
      ]
    },
    {
      "cell_type": "code",
      "execution_count": null,
      "metadata": {
        "id": "f9lvS_N9Ha6L"
      },
      "outputs": [],
      "source": [
        "batch_size = 256\n",
        "epoch = 30\n",
        "#optimizer__ = Adam or Stocastic gradient\n",
        "#loss = cross entropy or"
      ]
    },
    {
      "cell_type": "markdown",
      "metadata": {
        "id": "g9nTy7jKL_jv"
      },
      "source": [
        "#Defining the train and test loader"
      ]
    },
    {
      "cell_type": "markdown",
      "metadata": {
        "id": "mUvtMdt5NdYZ"
      },
      "source": [
        "##Defining certain functions"
      ]
    },
    {
      "cell_type": "code",
      "execution_count": null,
      "metadata": {
        "id": "-hiep8HjACuA"
      },
      "outputs": [],
      "source": [
        "def label_to_index(word):\n",
        "    # Return the position of the word in labels\n",
        "    return torch.tensor(labels.index(word))\n",
        "\n",
        "def index_to_label(index):\n",
        "    # Return the word corresponding to the index in labels\n",
        "    # This is the inverse of label_to_index\n",
        "    return labels[index]\n",
        "\n",
        "def pad_sequence(batch):\n",
        "    # Make all tensor in a batch the same length by padding with zeros\n",
        "    batch = [item.t() for item in batch]\n",
        "    batch = torch.nn.utils.rnn.pad_sequence(batch, batch_first=True, padding_value=0.)\n",
        "    return batch.permute(0, 2, 1)\n",
        "\n",
        "def collate_fn(batch):\n",
        "\n",
        "    # A data tuple has the form:\n",
        "    # waveform, sample_rate, label, speaker_id, utterance_number\n",
        "\n",
        "    tensors, targets = [], []\n",
        "\n",
        "    # Gather in lists, and encode labels as indices\n",
        "    for waveform, _, label, *_ in batch:\n",
        "        tensors += [waveform]\n",
        "        targets += [label_to_index(label)]\n",
        "\n",
        "    # Group the list of tensors into a batched tensor\n",
        "    tensors = pad_sequence(tensors)\n",
        "    targets = torch.stack(targets)\n",
        "\n",
        "    return tensors, targets\n",
        "\n",
        "def count_parameters(model):\n",
        "    return sum(p.numel() for p in model.parameters() if p.requires_grad)\n"
      ]
    },
    {
      "cell_type": "code",
      "execution_count": null,
      "metadata": {
        "id": "vy_ZMwWkMcvi"
      },
      "outputs": [],
      "source": [
        "if device == \"cuda\":\n",
        "    num_workers = 1\n",
        "    pin_memory = True\n",
        "else:\n",
        "    num_workers = 0\n",
        "    pin_memory = False"
      ]
    },
    {
      "cell_type": "code",
      "execution_count": null,
      "metadata": {
        "id": "2MlT07AML-96"
      },
      "outputs": [],
      "source": [
        "train_loader = torch.utils.data.DataLoader(train_dataset,batch_size=batch_size,shuffle=True,collate_fn=collate_fn,num_workers=num_workers,pin_memory=pin_memory)\n",
        "test_loader = torch.utils.data.DataLoader(test_dataset,batch_size=batch_size,shuffle=False,drop_last=False,collate_fn=collate_fn,num_workers=num_workers,pin_memory=pin_memory)"
      ]
    },
    {
      "cell_type": "markdown",
      "metadata": {
        "id": "w9u64YSsM_Tf"
      },
      "source": [
        "#Implementing the model"
      ]
    },
    {
      "cell_type": "code",
      "execution_count": null,
      "metadata": {
        "id": "UDEUaIfSNFFJ"
      },
      "outputs": [],
      "source": [
        "#we have built the RNN model"
      ]
    },
    {
      "cell_type": "code",
      "execution_count": null,
      "metadata": {
        "colab": {
          "base_uri": "https://localhost:8080/"
        },
        "id": "7OMU35I4AFE-",
        "outputId": "8430aedc-681b-4553-8372-65571906d6ff"
      },
      "outputs": [
        {
          "name": "stdout",
          "output_type": "stream",
          "text": [
            "M5_RNN(\n",
            "  (rnn): RNN(1, 64, num_layers=2, batch_first=True)\n",
            "  (fc): Linear(in_features=64, out_features=35, bias=True)\n",
            ")\n"
          ]
        }
      ],
      "source": [
        "import torch.nn as nn\n",
        "\n",
        "class M5_RNN(nn.Module):\n",
        "    def __init__(self, n_input=1, n_output=35, n_hidden=64, n_layers=2):\n",
        "        super().__init__()\n",
        "        self.n_hidden = n_hidden\n",
        "        self.n_layers = n_layers\n",
        "        self.rnn = nn.RNN(n_input, n_hidden, n_layers, batch_first=True)\n",
        "        self.fc = nn.Linear(n_hidden, n_output)\n",
        "\n",
        "    def forward(self, x):\n",
        "        batch_size = x.size(0)\n",
        "        h0 = torch.zeros(self.n_layers, batch_size, self.n_hidden).to(x.device)\n",
        "        out, _ = self.rnn(x, h0)\n",
        "        out = self.fc(out[:, -1, :])\n",
        "        return F.log_softmax(out, dim=1)\n",
        "\n",
        "model_rnn = M5_RNN(n_input=transformed.shape[0], n_output=len(labels))\n",
        "model_rnn.to(device)\n",
        "print(model_rnn)"
      ]
    },
    {
      "cell_type": "markdown",
      "metadata": {
        "id": "OtEI0a8uOD3e"
      },
      "source": [
        "#Defining the optimizer and loss function"
      ]
    },
    {
      "cell_type": "code",
      "execution_count": null,
      "metadata": {
        "id": "IvLlP-YGAHVC"
      },
      "outputs": [],
      "source": [
        "optimizer = optim.Adam(model_rnn.parameters(), lr=0.001, weight_decay=0.0001)\n",
        "# optimizer = optim.SGD(model.parameters(), lr=0.001)\n",
        "scheduler = optim.lr_scheduler.StepLR(optimizer, step_size=20, gamma=0.1)  # reduce the learning after 20 epochs by a factor of 10"
      ]
    },
    {
      "cell_type": "code",
      "execution_count": null,
      "metadata": {
        "id": "_m-P14j6RBlm"
      },
      "outputs": [],
      "source": [
        "# criterion = nn.functional.nll_loss()\n",
        "# criterion = nn.CrossEntropyLoss()"
      ]
    },
    {
      "cell_type": "markdown",
      "metadata": {
        "id": "fzuYnYPGORHN"
      },
      "source": [
        "#Training the model"
      ]
    },
    {
      "cell_type": "code",
      "execution_count": null,
      "metadata": {
        "id": "auS5OuL3AJsb"
      },
      "outputs": [],
      "source": [
        "def train(model, epoch, log_interval):\n",
        "    model.train()\n",
        "    for batch_idx, (data, target) in enumerate(train_loader):\n",
        "\n",
        "        data = data.to(device)\n",
        "        target = target.to(device)\n",
        "\n",
        "        # apply transform and model on whole batch directly on device\n",
        "        data = transform(data)\n",
        "        output = model(data)\n",
        "\n",
        "        # negative log-likelihood for a tensor of size (batch x 1 x n_output)\n",
        "        loss = nn.functional.nll_loss(output.squeeze(), target)\n",
        "        # loss = criterion(output.squeeze(), target)\n",
        "\n",
        "        optimizer.zero_grad()\n",
        "        loss.backward()\n",
        "        optimizer.step()\n",
        "\n",
        "        # print training stats\n",
        "        if batch_idx % log_interval == 0:\n",
        "            print(f\"Train Epoch: {epoch} [{batch_idx * len(data)}/{len(train_loader.dataset)} ({100. * batch_idx / len(train_loader):.0f}%)]\\tLoss: {loss.item():.6f}\")\n",
        "\n",
        "        # update progress bar\n",
        "        # pbar.update(pbar_update)\n",
        "        # record loss\n",
        "        # losses.append(loss.item())"
      ]
    },
    {
      "cell_type": "code",
      "execution_count": null,
      "metadata": {
        "id": "eef8rZmYMo9v"
      },
      "outputs": [],
      "source": [
        "#for batch-size = 256"
      ]
    },
    {
      "cell_type": "code",
      "execution_count": null,
      "metadata": {
        "colab": {
          "base_uri": "https://localhost:8080/"
        },
        "id": "egLMk5-OLIp4",
        "outputId": "4bda0cc8-03cf-4441-d186-caf5ac40b501"
      },
      "outputs": [
        {
          "name": "stdout",
          "output_type": "stream",
          "text": [
            "Train Epoch: 30 [0/84843 (0%)]\tLoss: 3.559620\n",
            "Train Epoch: 30 [5120/84843 (6%)]\tLoss: 3.523321\n",
            "Train Epoch: 30 [10240/84843 (12%)]\tLoss: 3.510059\n",
            "Train Epoch: 30 [15360/84843 (18%)]\tLoss: 3.485088\n",
            "Train Epoch: 30 [20480/84843 (24%)]\tLoss: 3.559773\n",
            "Train Epoch: 30 [25600/84843 (30%)]\tLoss: 3.495030\n",
            "Train Epoch: 30 [30720/84843 (36%)]\tLoss: 3.479050\n",
            "Train Epoch: 30 [35840/84843 (42%)]\tLoss: 3.520904\n",
            "Train Epoch: 30 [40960/84843 (48%)]\tLoss: 3.521973\n",
            "Train Epoch: 30 [46080/84843 (54%)]\tLoss: 3.503622\n",
            "Train Epoch: 30 [51200/84843 (60%)]\tLoss: 3.491368\n",
            "Train Epoch: 30 [56320/84843 (66%)]\tLoss: 3.459888\n",
            "Train Epoch: 30 [61440/84843 (72%)]\tLoss: 3.473242\n",
            "Train Epoch: 30 [66560/84843 (78%)]\tLoss: 3.500287\n",
            "Train Epoch: 30 [71680/84843 (84%)]\tLoss: 3.482856\n",
            "Train Epoch: 30 [76800/84843 (90%)]\tLoss: 3.511638\n",
            "Train Epoch: 30 [81920/84843 (96%)]\tLoss: 3.519269\n"
          ]
        }
      ],
      "source": [
        "train(model_rnn,30,20)"
      ]
    },
    {
      "cell_type": "code",
      "execution_count": null,
      "metadata": {
        "id": "3rq_abetyuEb"
      },
      "outputs": [],
      "source": [
        "#we have built the  model"
      ]
    },
    {
      "cell_type": "code",
      "execution_count": null,
      "metadata": {
        "colab": {
          "base_uri": "https://localhost:8080/"
        },
        "id": "14zTYkTeAL4E",
        "outputId": "54c95b59-2d26-43c9-8595-9bc1d57f67e7"
      },
      "outputs": [
        {
          "name": "stdout",
          "output_type": "stream",
          "text": [
            "Train Epoch: 50 [0/84843 (0%)]\tLoss: 3.499972\n",
            "Train Epoch: 50 [5120/84843 (6%)]\tLoss: 3.493759\n",
            "Train Epoch: 50 [10240/84843 (12%)]\tLoss: 3.509562\n",
            "Train Epoch: 50 [15360/84843 (18%)]\tLoss: 3.461777\n",
            "Train Epoch: 50 [20480/84843 (24%)]\tLoss: 3.518504\n",
            "Train Epoch: 50 [25600/84843 (30%)]\tLoss: 3.504491\n",
            "Train Epoch: 50 [30720/84843 (36%)]\tLoss: 3.511660\n",
            "Train Epoch: 50 [35840/84843 (42%)]\tLoss: 3.485420\n",
            "Train Epoch: 50 [40960/84843 (48%)]\tLoss: 3.532993\n",
            "Train Epoch: 50 [46080/84843 (54%)]\tLoss: 3.514882\n",
            "Train Epoch: 50 [51200/84843 (60%)]\tLoss: 3.490666\n",
            "Train Epoch: 50 [56320/84843 (66%)]\tLoss: 3.483118\n",
            "Train Epoch: 50 [61440/84843 (72%)]\tLoss: 3.471824\n",
            "Train Epoch: 50 [66560/84843 (78%)]\tLoss: 3.523673\n",
            "Train Epoch: 50 [71680/84843 (84%)]\tLoss: 3.491619\n",
            "Train Epoch: 50 [76800/84843 (90%)]\tLoss: 3.511342\n",
            "Train Epoch: 50 [81920/84843 (96%)]\tLoss: 3.499390\n"
          ]
        }
      ],
      "source": [
        "train(model_rnn,50,20)"
      ]
    },
    {
      "cell_type": "code",
      "execution_count": null,
      "metadata": {
        "colab": {
          "base_uri": "https://localhost:8080/"
        },
        "id": "8z3ePU0xFJMS",
        "outputId": "7428dc3b-2556-4a87-d519-19c036f687ef"
      },
      "outputs": [
        {
          "name": "stdout",
          "output_type": "stream",
          "text": [
            "Train Epoch: 120 [0/84843 (0%)]\tLoss: 3.475311\n",
            "Train Epoch: 120 [5120/84843 (6%)]\tLoss: 3.519197\n",
            "Train Epoch: 120 [10240/84843 (12%)]\tLoss: 3.513041\n",
            "Train Epoch: 120 [15360/84843 (18%)]\tLoss: 3.506081\n",
            "Train Epoch: 120 [20480/84843 (24%)]\tLoss: 3.513651\n",
            "Train Epoch: 120 [25600/84843 (30%)]\tLoss: 3.471093\n",
            "Train Epoch: 120 [30720/84843 (36%)]\tLoss: 3.528052\n",
            "Train Epoch: 120 [35840/84843 (42%)]\tLoss: 3.470295\n",
            "Train Epoch: 120 [40960/84843 (48%)]\tLoss: 3.468193\n",
            "Train Epoch: 120 [46080/84843 (54%)]\tLoss: 3.525106\n",
            "Train Epoch: 120 [51200/84843 (60%)]\tLoss: 3.501904\n",
            "Train Epoch: 120 [56320/84843 (66%)]\tLoss: 3.528369\n",
            "Train Epoch: 120 [61440/84843 (72%)]\tLoss: 3.488992\n",
            "Train Epoch: 120 [66560/84843 (78%)]\tLoss: 3.491758\n",
            "Train Epoch: 120 [71680/84843 (84%)]\tLoss: 3.480211\n",
            "Train Epoch: 120 [76800/84843 (90%)]\tLoss: 3.502780\n",
            "Train Epoch: 120 [81920/84843 (96%)]\tLoss: 3.496535\n"
          ]
        }
      ],
      "source": [
        "train(model_rnn,120,20)"
      ]
    },
    {
      "cell_type": "code",
      "execution_count": null,
      "metadata": {
        "id": "Zf4pbjcwKc7I"
      },
      "outputs": [],
      "source": [
        "#for batch-size = 120"
      ]
    },
    {
      "cell_type": "code",
      "execution_count": null,
      "metadata": {
        "colab": {
          "base_uri": "https://localhost:8080/"
        },
        "id": "TZETYitXDLRU",
        "outputId": "9e03ad85-c144-41a2-aada-de70da963916"
      },
      "outputs": [
        {
          "name": "stdout",
          "output_type": "stream",
          "text": [
            "Train Epoch: 30 [0/84843 (0%)]\tLoss: 3.494680\n",
            "Train Epoch: 30 [5120/84843 (6%)]\tLoss: 3.511751\n",
            "Train Epoch: 30 [10240/84843 (12%)]\tLoss: 3.508148\n",
            "Train Epoch: 30 [15360/84843 (18%)]\tLoss: 3.498216\n",
            "Train Epoch: 30 [20480/84843 (24%)]\tLoss: 3.531823\n",
            "Train Epoch: 30 [25600/84843 (30%)]\tLoss: 3.488989\n",
            "Train Epoch: 30 [30720/84843 (36%)]\tLoss: 3.502468\n",
            "Train Epoch: 30 [35840/84843 (42%)]\tLoss: 3.521461\n",
            "Train Epoch: 30 [40960/84843 (48%)]\tLoss: 3.502986\n",
            "Train Epoch: 30 [46080/84843 (54%)]\tLoss: 3.459469\n",
            "Train Epoch: 30 [51200/84843 (60%)]\tLoss: 3.495537\n",
            "Train Epoch: 30 [56320/84843 (66%)]\tLoss: 3.512074\n",
            "Train Epoch: 30 [61440/84843 (72%)]\tLoss: 3.491352\n",
            "Train Epoch: 30 [66560/84843 (78%)]\tLoss: 3.502696\n",
            "Train Epoch: 30 [71680/84843 (84%)]\tLoss: 3.525645\n",
            "Train Epoch: 30 [76800/84843 (90%)]\tLoss: 3.467765\n",
            "Train Epoch: 30 [81920/84843 (96%)]\tLoss: 3.517430\n"
          ]
        }
      ],
      "source": [
        "train(model_rnn,30,20)"
      ]
    },
    {
      "cell_type": "code",
      "execution_count": null,
      "metadata": {
        "id": "xibNu_eANnih"
      },
      "outputs": [],
      "source": [
        "#for batch-size = 32"
      ]
    },
    {
      "cell_type": "code",
      "execution_count": null,
      "metadata": {
        "colab": {
          "base_uri": "https://localhost:8080/"
        },
        "id": "yZccxibkNqve",
        "outputId": "9c8a5025-7e75-44a9-c56a-b1c39558906a"
      },
      "outputs": [
        {
          "name": "stdout",
          "output_type": "stream",
          "text": [
            "Train Epoch: 30 [0/84843 (0%)]\tLoss: 3.475362\n",
            "Train Epoch: 30 [5120/84843 (6%)]\tLoss: 3.503821\n",
            "Train Epoch: 30 [10240/84843 (12%)]\tLoss: 3.504966\n",
            "Train Epoch: 30 [15360/84843 (18%)]\tLoss: 3.552123\n",
            "Train Epoch: 30 [20480/84843 (24%)]\tLoss: 3.490181\n",
            "Train Epoch: 30 [25600/84843 (30%)]\tLoss: 3.506970\n",
            "Train Epoch: 30 [30720/84843 (36%)]\tLoss: 3.500985\n",
            "Train Epoch: 30 [35840/84843 (42%)]\tLoss: 3.493864\n",
            "Train Epoch: 30 [40960/84843 (48%)]\tLoss: 3.481001\n",
            "Train Epoch: 30 [46080/84843 (54%)]\tLoss: 3.486143\n",
            "Train Epoch: 30 [51200/84843 (60%)]\tLoss: 3.476663\n",
            "Train Epoch: 30 [56320/84843 (66%)]\tLoss: 3.489318\n",
            "Train Epoch: 30 [61440/84843 (72%)]\tLoss: 3.517868\n",
            "Train Epoch: 30 [66560/84843 (78%)]\tLoss: 3.514377\n",
            "Train Epoch: 30 [71680/84843 (84%)]\tLoss: 3.516007\n",
            "Train Epoch: 30 [76800/84843 (90%)]\tLoss: 3.508572\n",
            "Train Epoch: 30 [81920/84843 (96%)]\tLoss: 3.512790\n"
          ]
        }
      ],
      "source": [
        "train(model_rnn,30,20)"
      ]
    },
    {
      "cell_type": "code",
      "execution_count": null,
      "metadata": {
        "id": "vJCsk-1TPYAx"
      },
      "outputs": [],
      "source": [
        "#for optimizer = stocastic gradient, batch-size = 32"
      ]
    },
    {
      "cell_type": "code",
      "execution_count": null,
      "metadata": {
        "colab": {
          "base_uri": "https://localhost:8080/"
        },
        "id": "ZibW0EqPPdb5",
        "outputId": "95d6d828-bc6c-44e3-fbfc-12806ae68643"
      },
      "outputs": [
        {
          "name": "stdout",
          "output_type": "stream",
          "text": [
            "Train Epoch: 30 [0/84843 (0%)]\tLoss: 3.481726\n",
            "Train Epoch: 30 [5120/84843 (6%)]\tLoss: 3.494487\n",
            "Train Epoch: 30 [10240/84843 (12%)]\tLoss: 3.489565\n",
            "Train Epoch: 30 [15360/84843 (18%)]\tLoss: 3.496015\n",
            "Train Epoch: 30 [20480/84843 (24%)]\tLoss: 3.450080\n",
            "Train Epoch: 30 [25600/84843 (30%)]\tLoss: 3.502276\n",
            "Train Epoch: 30 [30720/84843 (36%)]\tLoss: 3.504688\n",
            "Train Epoch: 30 [35840/84843 (42%)]\tLoss: 3.469882\n",
            "Train Epoch: 30 [40960/84843 (48%)]\tLoss: 3.523783\n",
            "Train Epoch: 30 [46080/84843 (54%)]\tLoss: 3.469990\n",
            "Train Epoch: 30 [51200/84843 (60%)]\tLoss: 3.476875\n",
            "Train Epoch: 30 [56320/84843 (66%)]\tLoss: 3.493445\n",
            "Train Epoch: 30 [61440/84843 (72%)]\tLoss: 3.484253\n",
            "Train Epoch: 30 [66560/84843 (78%)]\tLoss: 3.501410\n",
            "Train Epoch: 30 [71680/84843 (84%)]\tLoss: 3.526378\n",
            "Train Epoch: 30 [76800/84843 (90%)]\tLoss: 3.536133\n",
            "Train Epoch: 30 [81920/84843 (96%)]\tLoss: 3.495779\n"
          ]
        }
      ],
      "source": [
        "train(model_rnn,30,20)"
      ]
    },
    {
      "cell_type": "markdown",
      "metadata": {
        "id": "16bcJA_8Q1Ea"
      },
      "source": [
        "#Testing the model"
      ]
    },
    {
      "cell_type": "code",
      "execution_count": null,
      "metadata": {
        "id": "YIzw2Ux1AeLE"
      },
      "outputs": [],
      "source": [
        "def number_of_correct(pred, target):\n",
        "    # count number of correct predictions\n",
        "    return pred.squeeze().eq(target).sum().item()\n",
        "\n",
        "\n",
        "def get_likely_index(tensor):\n",
        "    # find most likely label index for each element in the batch\n",
        "    return tensor.argmax(dim=-1)"
      ]
    },
    {
      "cell_type": "code",
      "execution_count": null,
      "metadata": {
        "id": "Qk9nYfTmRFQD"
      },
      "outputs": [],
      "source": [
        "def test(model, epoch):\n",
        "    model.eval()\n",
        "    correct = 0\n",
        "    for data, target in test_loader:\n",
        "\n",
        "        data = data.to(device)\n",
        "        target = target.to(device)\n",
        "\n",
        "        # apply transform and model on whole batch directly on device\n",
        "        data = transform(data)\n",
        "        output = model(data)\n",
        "\n",
        "        pred = get_likely_index(output)\n",
        "        correct += number_of_correct(pred, target)\n",
        "\n",
        "        # update progress bar\n",
        "        # pbar.update(pbar_update)\n",
        "\n",
        "    print(f\"\\nTest Epoch: {epoch}\\tAccuracy: {correct}/{len(test_loader.dataset)} ({100. * correct / len(test_loader.dataset):.0f}%)\\n\")"
      ]
    },
    {
      "cell_type": "code",
      "execution_count": null,
      "metadata": {
        "id": "K_-ZcYZgM130"
      },
      "outputs": [],
      "source": [
        "#for batch-size = 256, optimizer = Adam,"
      ]
    },
    {
      "cell_type": "code",
      "execution_count": null,
      "metadata": {
        "colab": {
          "base_uri": "https://localhost:8080/"
        },
        "id": "Wo5BJFQeLTCx",
        "outputId": "91c5173a-5287-4791-c5bb-c9c1af3edff5"
      },
      "outputs": [
        {
          "name": "stdout",
          "output_type": "stream",
          "text": [
            "\n",
            "Test Epoch: 30\tAccuracy: 406/11005 (4%)\n",
            "\n"
          ]
        }
      ],
      "source": [
        "test(model_rnn,30)"
      ]
    },
    {
      "cell_type": "code",
      "execution_count": null,
      "metadata": {
        "colab": {
          "base_uri": "https://localhost:8080/"
        },
        "id": "-BsLIwIiBS36",
        "outputId": "28548ef2-1c50-404f-81e9-b29700518792"
      },
      "outputs": [
        {
          "name": "stdout",
          "output_type": "stream",
          "text": [
            "\n",
            "Test Epoch: 50\tAccuracy: 406/11005 (4%)\n",
            "\n"
          ]
        }
      ],
      "source": [
        "test(model_rnn,50)"
      ]
    },
    {
      "cell_type": "code",
      "execution_count": null,
      "metadata": {
        "colab": {
          "base_uri": "https://localhost:8080/"
        },
        "id": "jutTEBZ_FShe",
        "outputId": "229e88a1-44f1-4d57-9805-612c2c05914d"
      },
      "outputs": [
        {
          "name": "stdout",
          "output_type": "stream",
          "text": [
            "\n",
            "Test Epoch: 120\tAccuracy: 406/11005 (4%)\n",
            "\n"
          ]
        }
      ],
      "source": [
        "test(model_rnn,120)"
      ]
    },
    {
      "cell_type": "code",
      "execution_count": null,
      "metadata": {
        "id": "S0ccSKs-M7VA"
      },
      "outputs": [],
      "source": [
        "#for batch-size = 120"
      ]
    },
    {
      "cell_type": "code",
      "execution_count": null,
      "metadata": {
        "colab": {
          "base_uri": "https://localhost:8080/"
        },
        "id": "Wt979d1QEqvi",
        "outputId": "7cd5aa45-7299-4161-e75a-362110323988"
      },
      "outputs": [
        {
          "name": "stdout",
          "output_type": "stream",
          "text": [
            "\n",
            "Test Epoch: 30\tAccuracy: 406/11005 (4%)\n",
            "\n"
          ]
        }
      ],
      "source": [
        "test(model_rnn,30)"
      ]
    },
    {
      "cell_type": "code",
      "execution_count": null,
      "metadata": {
        "id": "CezQpxEyNeS_"
      },
      "outputs": [],
      "source": [
        "#for batch-size = 32"
      ]
    },
    {
      "cell_type": "code",
      "execution_count": null,
      "metadata": {
        "colab": {
          "base_uri": "https://localhost:8080/"
        },
        "id": "twzaufLsNjJO",
        "outputId": "b296b6c3-b9cd-4317-ffab-1873be9f4cd8"
      },
      "outputs": [
        {
          "name": "stdout",
          "output_type": "stream",
          "text": [
            "\n",
            "Test Epoch: 30\tAccuracy: 406/11005 (4%)\n",
            "\n"
          ]
        }
      ],
      "source": [
        "test(model_rnn,30)"
      ]
    },
    {
      "cell_type": "code",
      "execution_count": null,
      "metadata": {
        "id": "5vIjtNTNPwN1"
      },
      "outputs": [],
      "source": [
        "#for optimizer = stocastic gradient, batch-size = 32"
      ]
    },
    {
      "cell_type": "code",
      "execution_count": null,
      "metadata": {
        "colab": {
          "base_uri": "https://localhost:8080/"
        },
        "id": "yG9HqNTEP1t_",
        "outputId": "937f6120-efd5-4532-d4a3-9766fd53c1b6"
      },
      "outputs": [
        {
          "name": "stdout",
          "output_type": "stream",
          "text": [
            "\n",
            "Test Epoch: 30\tAccuracy: 406/11005 (4%)\n",
            "\n"
          ]
        }
      ],
      "source": [
        "test(model_rnn,30)"
      ]
    },
    {
      "cell_type": "code",
      "execution_count": null,
      "metadata": {
        "colab": {
          "background_save": true
        },
        "id": "6j5UKhLeCwj4"
      },
      "outputs": [],
      "source": [
        "import torch.nn as nn\n",
        "import torch.nn.functional as F\n",
        "from torch.nn import TransformerEncoder, TransformerEncoderLayer\n",
        "\n",
        "class M5Transformer(nn.Module):\n",
        "    def __init__(self, n_input=1, n_output=35, n_channel=32, d_model=128, nhead=4, num_layers=3):\n",
        "        super().__init__()\n",
        "        self.pos_encoder = nn.Sequential(\n",
        "            nn.Linear(n_input, d_model),\n",
        "            nn.ReLU(),\n",
        "        )\n",
        "        encoder_layers = TransformerEncoderLayer(d_model, nhead)\n",
        "        self.transformer_encoder = TransformerEncoder(encoder_layers, num_layers)\n",
        "        self.fc1 = nn.Linear(d_model, n_output)\n",
        "\n",
        "    def forward(self, x):\n",
        "        x = x.permute(2, 0, 1)\n",
        "        x = self.pos_encoder(x)\n",
        "        x = self.transformer_encoder(x)\n",
        "        x = x.permute(1, 0, 2)\n",
        "        x = self.fc1(x)\n",
        "        return F.log_softmax(x, dim=-1)"
      ]
    },
    {
      "cell_type": "code",
      "execution_count": null,
      "metadata": {
        "id": "utlkDde_0Vai"
      },
      "outputs": [],
      "source": [
        "model = M5Transformer()\n",
        "optimizer = optim.Adam(model.parameters(), lr=0.01, weight_decay=0.0001)\n",
        "scheduler = optim.lr_scheduler.StepLR(optimizer, step_size=20, gamma=0.1)  # reduce the learning after 20 epochs by a factor of 10"
      ]
    },
    {
      "cell_type": "code",
      "execution_count": null,
      "metadata": {
        "id": "DaW6S3CV0V7u"
      },
      "outputs": [],
      "source": [
        "train(model,120,20)"
      ]
    },
    {
      "cell_type": "code",
      "execution_count": null,
      "metadata": {
        "id": "H8irGgqt0bGC"
      },
      "outputs": [],
      "source": [
        "test(model,120)"
      ]
    },
    {
      "cell_type": "code",
      "execution_count": null,
      "metadata": {
        "colab": {
          "background_save": true
        },
        "id": "grEPVDnBSH0a"
      },
      "outputs": [],
      "source": []
    },
    {
      "cell_type": "code",
      "execution_count": null,
      "metadata": {
        "colab": {
          "background_save": true
        },
        "id": "shkSaDuxUrJv"
      },
      "outputs": [],
      "source": []
    }
  ],
  "metadata": {
    "colab": {
      "provenance": []
    },
    "gpuClass": "standard",
    "kernelspec": {
      "display_name": "Python 3",
      "name": "python3"
    },
    "language_info": {
      "name": "python"
    }
  },
  "nbformat": 4,
  "nbformat_minor": 0
}